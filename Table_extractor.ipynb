{
 "cells": [
  {
   "cell_type": "code",
   "execution_count": null,
   "metadata": {},
   "outputs": [],
   "source": [
    "##Импорт необходимых модулей\n",
    "import pandas as pd\n",
    "import re\n",
    "import transliterate as tr\n",
    "import numpy as np\n",
    "import matplotlib.pyplot as plt"
   ]
  },
  {
   "cell_type": "code",
   "execution_count": null,
   "metadata": {},
   "outputs": [],
   "source": [
    "## Чтение таблицы с именами нужных параметров и их кодировкой для финальной таблицы\n",
    "param_names=pd.read_excel('analyzes_epi.xlsx',encoding='cp-1251')\n",
    "## Удаление пробелов в именах\n",
    "param_names['param_input']=param_names['param_input'].apply(lambda x: x.replace(' ',''))\n",
    "param_names.index=param_names['param_input']\n",
    "\n",
    "##Превращение файла в словарь вида {исходное название: необходимое название}\n",
    "param_names=param_names['param_out'].to_dict()"
   ]
  },
  {
   "cell_type": "code",
   "execution_count": null,
   "metadata": {},
   "outputs": [],
   "source": [
    "##Открытие основного файла с анализами\n",
    "f=open('table.txt','r')\n",
    "data=' '.join(i for i in f)\n",
    "data=re.split('\\n \\n',data)"
   ]
  },
  {
   "cell_type": "code",
   "execution_count": null,
   "metadata": {
    "scrolled": true
   },
   "outputs": [],
   "source": [
    "##Основной алгорит вычленения анализов в таблицу \n",
    "types=set(['Биохимия крови', 'Коагулограмма','нализ крови','нализ ликвора','нализ мочи'])\n",
    "result_list=[]\n",
    "for i in data:\n",
    "    if re.search(r'[А-Я$а-я]+',i)==None: continue\n",
    "    set_of_dates=re.split('(\\d{2}[.]\\d{2}[.]\\d{2})',i)\n",
    "    digits=re.findall('\\d+',set_of_dates[0])\n",
    "    \n",
    "    clinic_numb=int(digits[0])\n",
    "    age=digits[1]\n",
    "    name=tr.translit(re.findall(r'[А-Я$а-я]+',i)[0], reversed=True)\n",
    "    for date in range(1,len(set_of_dates),2):\n",
    "        date_time=set_of_dates[date]\n",
    "        text=set_of_dates[date+1][set_of_dates[date+1].find(' '):]\n",
    "        for typ in types:\n",
    "            if typ in text:\n",
    "                analyse_type=typ\n",
    "                break\n",
    "            else: analyse_type='Not recognised'\n",
    "        params=text[text.find(':'):]\n",
    "        params=params.split(',')\n",
    "        for param in params:\n",
    "            param_name2=param[param.find(' ')+1:param.find('-')]\n",
    "            param_name=param_name2.replace(' ','')\n",
    "            param=param[param.find('-')+1:]\n",
    "            value=param[:param.find('(')]\n",
    "            result_list.append([clinic_numb,name,age,date_time,analyse_type,param_name,value,param_name2])\n",
    "## Климочкин и Прямухин удалены из базы\n",
    "\n",
    "q=pd.DataFrame(result_list,columns=['clinic_numb','name','age','date','type','param','value','real_param_name'])\n",
    "q=q[q['param'].apply(lambda x: re.findall(r'[а-я]+',x)!=[])]"
   ]
  },
  {
   "cell_type": "code",
   "execution_count": null,
   "metadata": {
    "scrolled": false
   },
   "outputs": [],
   "source": [
    "## Обработка получившейся ДБ\n",
    "\n",
    "    ##Присвоение правильных имен всем параметрам \n",
    "def namer(param):   \n",
    "    for i in param_names:\n",
    "        if i==param:\n",
    "            return(param_names[i])\n",
    "def same_name_in_dif_tests(param):\n",
    "    if param['param'] in ['глюкоза', 'белок']:\n",
    "        if param['type']=='нализ мочи': return(param['param_name']+'_urine')\n",
    "        if param['type']=='нализ ликвора': return(param['param_name']+'_cerebral')\n",
    "        if param['type']=='Биохимия крови': return(param['param_name']+'_blood')\n",
    "    else: return(param['param_name'])\n",
    "\n",
    "q['param_name']=q['param'].apply(namer)\n",
    "q['param_name']=q.apply(same_name_in_dif_tests,axis=1)\n",
    "\n",
    "##Чистка значений\n",
    "\n",
    "    ##Выкидываем все значения из списка лимфоциты, моноциты и т.д. которые не в процентах, а в количествах \n",
    "for i in ['GR','NEU','MON','LYM','EOS','BAS']:\n",
    "    for j in q[q['param_name']==i].index:\n",
    "        if '^' in q.loc[j]['value']: q.drop(j, axis=0,inplace=True)\n",
    "            \n",
    "    ## Выкидываем все измерения лейкоцитов и эритроцитов в моче\n",
    "for i in ['RBC','WBC','RBC_1','WBC_1']:\n",
    "    for j in q[q['param_name']==i].index:\n",
    "        if 'п/з' in q.loc[j]['value']:\n",
    "            q.drop(j, axis=0,inplace=True)\n",
    "\n",
    "q.value=q.value.apply(lambda x: x[:x.find(' ')] if ' ' in x  else x)\n",
    "q.value=q.value.apply(lambda x: x[:x.find('%')] if '%' in x  else x)\n"
   ]
  },
  {
   "cell_type": "code",
   "execution_count": null,
   "metadata": {
    "scrolled": false
   },
   "outputs": [],
   "source": [
    "##Вычисление через сколько дней после поступления был сделан тот или иной анализ\n",
    "def days_error(days):\n",
    "    if (days<0) or (days>360):\n",
    "        if (days%365 in range(-4,4)) or (days%365 in range(360,366)): return(1)\n",
    "    else: return(days)\n",
    "fulldf=pd.read_csv('stroke_table.csv',sep=';', encoding='cp1251',skiprows=[1])\n",
    "w=pd.merge(fulldf[['clinic_numb','adm_date']],q,left_on='clinic_numb',right_on='clinic_numb',how='inner')\n",
    "w.adm_date=w.adm_date.apply(lambda x: x.replace(',','.'))\n",
    "w['days_after_adm']=pd.to_datetime(w['date'],dayfirst=True)-pd.to_datetime(w['adm_date'],dayfirst=True)\n",
    "w['days_after_adm']=w.days_after_adm.apply(lambda x: x.days)\n",
    "w['days_after_adm']=w.days_after_adm.apply(days_error)\n",
    "w.sort_values('days_after_adm', inplace=True)"
   ]
  },
  {
   "cell_type": "code",
   "execution_count": null,
   "metadata": {
    "scrolled": true
   },
   "outputs": [],
   "source": [
    "##Создание финальной таблицы с осями Фамилия/Параметр\n",
    "\n",
    "##Выбор только тех параметров которые есть в таблице с нужными параметрами\n",
    "w=w[w.param_name.notna()]\n",
    "##Выбор параметров с корректными датами анализов после поступления больного\n",
    "w=w[w['days_after_adm'].notna()]\n",
    "\n",
    "##Функция выбора самого раннего значения параметра для создания финальной таблицы\n",
    "def sorter(x):\n",
    "    days=w.loc[x.index[0],'days_after_adm']\n",
    "    value=w.loc[x.index[0],'value']\n",
    "    if len(x.index)>1:\n",
    "        for i in x.index:\n",
    "            if w.loc[i,'days_after_adm']<days:\n",
    "                value=w.loc[i,'value']\n",
    "                days=w.loc[i,'days_after_adm']\n",
    "    return(value)\n",
    "\n",
    "##Непосредственное создание таблицы с аггрегацией функцией sorter\n",
    "final_tab=pd.pivot_table(data=w,index=['name','clinic_numb'],columns='param_name',values='value',aggfunc=sorter)\n",
    "\n",
    "# ##Превращение всех значений в числовые значения\n",
    "for i in final_tab.columns:\n",
    "    final_tab[i] = pd.to_numeric(final_tab[i], errors='coerce')\n",
    "final_tab.to_excel('result_table.xlsx')"
   ]
  },
  {
   "cell_type": "code",
   "execution_count": null,
   "metadata": {},
   "outputs": [],
   "source": []
  }
 ],
 "metadata": {
  "anaconda-cloud": {},
  "kernelspec": {
   "display_name": "Python 3",
   "language": "python",
   "name": "python3"
  },
  "language_info": {
   "codemirror_mode": {
    "name": "ipython",
    "version": 3
   },
   "file_extension": ".py",
   "mimetype": "text/x-python",
   "name": "python",
   "nbconvert_exporter": "python",
   "pygments_lexer": "ipython3",
   "version": "3.6.4"
  }
 },
 "nbformat": 4,
 "nbformat_minor": 2
}
