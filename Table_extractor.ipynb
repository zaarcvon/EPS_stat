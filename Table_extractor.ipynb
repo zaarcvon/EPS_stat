{
 "cells": [
  {
   "cell_type": "code",
   "execution_count": 5,
   "metadata": {
    "collapsed": false
   },
   "outputs": [],
   "source": [
    "import pandas as pd\n",
    "import re\n",
    "import transliterate as tr"
   ]
  },
  {
   "cell_type": "code",
   "execution_count": 6,
   "metadata": {
    "collapsed": true
   },
   "outputs": [],
   "source": [
    "f=open('doc.txt','r')"
   ]
  },
  {
   "cell_type": "code",
   "execution_count": 7,
   "metadata": {
    "collapsed": false,
    "scrolled": true
   },
   "outputs": [
    {
     "name": "stdout",
     "output_type": "stream",
     "text": [
      "15264   Красовская Е.В.  82 года\n",
      "\n",
      "Krasovskaja\n",
      " 21332     Полякова Н.В.   48 лет \n",
      "\n",
      "Poljakova\n",
      "4614 Горбунов В.А.   55 лет\n",
      "\n",
      "Gorbunov\n",
      "27867    Исаева Н.М   69 лет \n",
      "\n",
      "Isaeva\n",
      "2040 Засыпкин В.А.  62 года\n",
      "\n",
      "Zasypkin\n",
      "11310 Оприян А.М.   60 лет\n",
      "\n",
      "Oprijan\n",
      "20673  Ивашенко В.Г.   60 лет\n",
      "\n",
      "Ivashenko\n"
     ]
    }
   ],
   "source": [
    "lis=[]\n",
    "for i in f:\n",
    "    if re.match('(|\\s)\\d{4}',i)!=None:\n",
    "        print(i)\n",
    "        digits=re.findall('\\d+',i)\n",
    "        clinic_numb=int(digits[0])\n",
    "        age=digits[1]\n",
    "        name=tr.translit(re.findall(r'[А-Я$а-я]+',i)[0], reversed=True)\n",
    "        print(name)\n",
    "    dates=re.findall(r'\\d{2}.\\d{2}.\\d{2}', i)\n",
    "    if dates!=[]:\n",
    "        date=dates[0]\n",
    "        types=' '.join(re.findall(r'[А-Я$а-я]+',i[0:i.rfind(':')]))\n",
    "    minus_pos=[m.start() for m in re.finditer(\"[а-я]-\\d\", i)]\n",
    "    for j in minus_pos:\n",
    "        if i[i[0:j].rfind(' '):j+1]=='':\n",
    "            param=i[0:j+1]\n",
    "        else: param=i[i[0:j].rfind(' ')+1:j+1]\n",
    "        if param.find(':')!=-1: param=param[param.find(':'):]\n",
    "        value=i[j+2:j+i[j:].find(' ')]\n",
    "        lis.append([clinic_numb,name,age,date,types,param,value])"
   ]
  },
  {
   "cell_type": "code",
   "execution_count": 8,
   "metadata": {
    "collapsed": false
   },
   "outputs": [],
   "source": [
    "q=pd.DataFrame(lis,columns=['clinic_numb','name','age','date','type_of_analyse','parameter','value'])"
   ]
  },
  {
   "cell_type": "code",
   "execution_count": 4,
   "metadata": {
    "collapsed": false
   },
   "outputs": [
    {
     "ename": "NameError",
     "evalue": "name 'q' is not defined",
     "output_type": "error",
     "traceback": [
      "\u001b[0;31m---------------------------------------------------------------------------\u001b[0m",
      "\u001b[0;31mNameError\u001b[0m                                 Traceback (most recent call last)",
      "\u001b[0;32m<ipython-input-4-f3cceff1fefe>\u001b[0m in \u001b[0;36m<module>\u001b[0;34m()\u001b[0m\n\u001b[1;32m      1\u001b[0m \u001b[1;32mimport\u001b[0m \u001b[0mtransliterate\u001b[0m \u001b[1;32mas\u001b[0m \u001b[0mtr\u001b[0m\u001b[1;33m\u001b[0m\u001b[0m\n\u001b[0;32m----> 2\u001b[0;31m \u001b[0mq\u001b[0m\u001b[1;33m[\u001b[0m\u001b[0mq\u001b[0m\u001b[1;33m[\u001b[0m\u001b[1;34m'parameter'\u001b[0m\u001b[1;33m]\u001b[0m\u001b[1;33m==\u001b[0m\u001b[1;34m'гемоглобин'\u001b[0m\u001b[1;33m]\u001b[0m\u001b[1;33m\u001b[0m\u001b[0m\n\u001b[0m",
      "\u001b[0;31mNameError\u001b[0m: name 'q' is not defined"
     ]
    }
   ],
   "source": [
    "\n",
    "q[q['parameter']=='гемоглобин']"
   ]
  },
  {
   "cell_type": "code",
   "execution_count": 9,
   "metadata": {
    "collapsed": false
   },
   "outputs": [],
   "source": [
    "fulldf=pd.read_csv('stroke_table.csv',sep=';', encoding='cp1251',skiprows=[1])"
   ]
  },
  {
   "cell_type": "code",
   "execution_count": 10,
   "metadata": {
    "collapsed": false,
    "scrolled": false
   },
   "outputs": [],
   "source": [
    "w=pd.merge(fulldf[['clinic_numb','adm_date']],q,left_on='clinic_numb',right_on='clinic_numb',how='inner')\n",
    "w['days_after_adm']=pd.to_datetime(w['date'])-pd.to_datetime(w['adm_date'])\n",
    "w['days_after_adm']=w.days_after_adm.apply(lambda x: x.days)"
   ]
  },
  {
   "cell_type": "code",
   "execution_count": null,
   "metadata": {
    "collapsed": false
   },
   "outputs": [],
   "source": [
    "w.to_csv('analyses.csv', index=False)"
   ]
  },
  {
   "cell_type": "code",
   "execution_count": null,
   "metadata": {
    "collapsed": false
   },
   "outputs": [],
   "source": [
    "s=pd.to_datetime('01.01.2013')-pd.to_datetime('02.01.2013')"
   ]
  },
  {
   "cell_type": "code",
   "execution_count": 12,
   "metadata": {
    "collapsed": false
   },
   "outputs": [
    {
     "data": {
      "text/plain": [
       " 31     46\n",
       " 0      43\n",
       " 1      38\n",
       " 91     27\n",
       " 15     27\n",
       "-12     21\n",
       " 25     20\n",
       "-1      16\n",
       " 21     14\n",
       " 292    13\n",
       " 24     10\n",
       " 2      10\n",
       " 3       9\n",
       " 28      7\n",
       "-28      5\n",
       "-23      5\n",
       " 22      4\n",
       " 33      3\n",
       " 20      2\n",
       "-62      2\n",
       " 139     2\n",
       " 23      2\n",
       "-11      1\n",
       " 109     1\n",
       "Name: days_after_adm, dtype: int64"
      ]
     },
     "execution_count": 12,
     "metadata": {},
     "output_type": "execute_result"
    }
   ],
   "source": [
    "w.days_after_adm.value_counts()"
   ]
  },
  {
   "cell_type": "code",
   "execution_count": null,
   "metadata": {
    "collapsed": true
   },
   "outputs": [],
   "source": []
  }
 ],
 "metadata": {
  "anaconda-cloud": {},
  "kernelspec": {
   "display_name": "Python [conda env:Anaconda3]",
   "language": "python",
   "name": "conda-env-Anaconda3-py"
  },
  "language_info": {
   "codemirror_mode": {
    "name": "ipython",
    "version": 3
   },
   "file_extension": ".py",
   "mimetype": "text/x-python",
   "name": "python",
   "nbconvert_exporter": "python",
   "pygments_lexer": "ipython3",
   "version": "3.5.2"
  }
 },
 "nbformat": 4,
 "nbformat_minor": 2
}
