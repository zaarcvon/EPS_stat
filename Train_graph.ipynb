{
 "cells": [
  {
   "cell_type": "code",
   "execution_count": 34,
   "metadata": {},
   "outputs": [],
   "source": [
    "import pandas as pd\n",
    "import seaborn as sns\n",
    "import matplotlib.pyplot as plt"
   ]
  },
  {
   "cell_type": "code",
   "execution_count": 25,
   "metadata": {},
   "outputs": [],
   "source": [
    "df=pd.read_csv('stroke_table_07-01.xls', encoding=\"cp-1251\", skiprows=[1,2])  ## сюда лучше вставь нашу вчерашнюю загрузку таблицы"
   ]
  },
  {
   "cell_type": "code",
   "execution_count": 79,
   "metadata": {},
   "outputs": [
    {
     "data": {
      "text/plain": [
       "<matplotlib.axes._subplots.AxesSubplot at 0xfc2fef0>"
      ]
     },
     "execution_count": 79,
     "metadata": {},
     "output_type": "execute_result"
    },
    {
     "data": {
      "image/png": "[encoded data removed]",
      "text/plain": [
       "<matplotlib.figure.Figure at 0xff55be0>"
      ]
     },
     "metadata": {},
     "output_type": "display_data"
    }
   ],
   "source": [
    "plt.figure(figsize=(5,5))    # размеры картинки x,y\n",
    "sns.boxplot(x='sex',y='age',data=df,width=0.3,palette=['gray','gold'],saturation=0.7) # непосредственно картинка, с параметрами \n",
    "                                                                                      # поиграй и увидишь что меняется\n",
    "\n",
    "# вообще все оси и значения подписываются по умолчанию как в таблице, но если надо подписать по-другому, на русском например, \n",
    "# то надо использовать функции которые внизу\n",
    "\n",
    "plt.xticks([0,1],['женщины','мужчины']) # подписи значений по x.  Нулевое - женщины, первое - мужчины\n",
    "plt.xlabel('пол',fontsize='x-large')  # это и ниже подпись осей размера x-large, если нужен другой размер, поменяй и посмотри что предложит\n",
    "plt.ylabel('возраст', fontsize='x-large')\n",
    "plt.savefig('result.jpg',dpi=300) # сохранение картинки в нужном разрешении"
   ]
  },
  {
   "cell_type": "markdown",
   "metadata": {},
   "source": [
    "<h1><b>Названия разных цветов в Matplotlib</b></h1>\n",
    "<img src=\"https://python-graph-gallery.com/wp-content/uploads/100_Color_names_python.png\",width=800,height=800>"
   ]
  },
  {
   "cell_type": "code",
   "execution_count": 84,
   "metadata": {},
   "outputs": [],
   "source": [
    "a=310\n",
    "if -15<a<=12 and 14<a<17 and a>=19:\n",
    "    print(\"True\")"
   ]
  },
  {
   "cell_type": "code",
   "execution_count": null,
   "metadata": {},
   "outputs": [],
   "source": []
  }
 ],
 "metadata": {
  "kernelspec": {
   "display_name": "Python 3",
   "language": "python",
   "name": "python3"
  },
  "language_info": {
   "codemirror_mode": {
    "name": "ipython",
    "version": 3
   },
   "file_extension": ".py",
   "mimetype": "text/x-python",
   "name": "python",
   "nbconvert_exporter": "python",
   "pygments_lexer": "ipython3",
   "version": "3.6.4"
  }
 },
 "nbformat": 4,
 "nbformat_minor": 2
}
